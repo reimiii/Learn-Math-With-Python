{
 "cells": [
  {
   "cell_type": "code",
   "execution_count": 2,
   "metadata": {
    "collapsed": true
   },
   "outputs": [
    {
     "name": "stdout",
     "output_type": "stream",
     "text": [
      "0\n",
      "2\n",
      "4\n",
      "6\n"
     ]
    }
   ],
   "source": [
    "for i in [0, 1, 2, 3]:\n",
    "    print(i * 2)"
   ]
  },
  {
   "cell_type": "code",
   "execution_count": 5,
   "outputs": [
    {
     "data": {
      "text/plain": "[0, 1, 2]"
     },
     "execution_count": 5,
     "metadata": {},
     "output_type": "execute_result"
    }
   ],
   "source": [
    "list(range(0, 3))"
   ],
   "metadata": {
    "collapsed": false,
    "pycharm": {
     "name": "#%%\n"
    }
   }
  },
  {
   "cell_type": "code",
   "execution_count": 8,
   "outputs": [
    {
     "name": "stdout",
     "output_type": "stream",
     "text": [
      "This is 0th iteration.\n",
      "This is 1th iteration.\n",
      "This is 2th iteration.\n"
     ]
    }
   ],
   "source": [
    "for q in range(0, 3):\n",
    "    print('This is %gth iteration.' % q)"
   ],
   "metadata": {
    "collapsed": false,
    "pycharm": {
     "name": "#%%\n"
    }
   }
  },
  {
   "cell_type": "code",
   "execution_count": 10,
   "outputs": [
    {
     "name": "stdout",
     "output_type": "stream",
     "text": [
      "0\n",
      "1\n",
      "4\n",
      "9\n",
      "16\n"
     ]
    }
   ],
   "source": [
    "for e in range(0, 5):\n",
    "    num = e ** 2\n",
    "    print(num)"
   ],
   "metadata": {
    "collapsed": false,
    "pycharm": {
     "name": "#%%\n"
    }
   }
  },
  {
   "cell_type": "code",
   "execution_count": 21,
   "outputs": [
    {
     "name": "stdout",
     "output_type": "stream",
     "text": [
      "32 to the power of 0 is 1\n",
      "32 to the power of 1 is 32\n",
      "32 to the power of 2 is 1024\n",
      "32 to the power of 3 is 32768\n",
      "32 to the power of 4 is 1.04858e+06\n",
      "32 to the power of 5 is 3.35544e+07\n",
      "32 to the power of 6 is 1.07374e+09\n",
      "32 to the power of 7 is 3.43597e+10\n",
      "32 to the power of 8 is 1.09951e+12\n",
      "32 to the power of 9 is 3.51844e+13\n"
     ]
    }
   ],
   "source": [
    "base = 32\n",
    "for angka in range(0, 10):\n",
    "    print('%g to the power of %g is %g' % (base, angka, base ** angka))"
   ],
   "metadata": {
    "collapsed": false,
    "pycharm": {
     "name": "#%%\n"
    }
   }
  }
 ],
 "metadata": {
  "kernelspec": {
   "display_name": "Python 3",
   "language": "python",
   "name": "python3"
  },
  "language_info": {
   "codemirror_mode": {
    "name": "ipython",
    "version": 2
   },
   "file_extension": ".py",
   "mimetype": "text/x-python",
   "name": "python",
   "nbconvert_exporter": "python",
   "pygments_lexer": "ipython2",
   "version": "2.7.6"
  }
 },
 "nbformat": 4,
 "nbformat_minor": 0
}